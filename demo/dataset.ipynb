{
 "cells": [
  {
   "cell_type": "code",
   "execution_count": 1,
   "metadata": {},
   "outputs": [],
   "source": [
    "from poseutils.datasets.processed import TransformedDataset\n",
    "from poseutils.datasets.unprocessed import GPADataset\n",
    "from poseutils.datasets.transformation import RootCenter\n",
    "from poseutils.datasets.transformation import CropAndScale\n",
    "from poseutils.datasets.transformation import CalculateMetrics\n",
    "from poseutils.datasets.transformation import Normalize"
   ]
  },
  {
   "cell_type": "code",
   "execution_count": 2,
   "metadata": {},
   "outputs": [
    {
     "name": "stdout",
     "output_type": "stream",
     "text": [
      "[PoseUtils] Loaded raw data\n",
      "[PoseUtils] Applying crop and scale\n",
      "[PoseUtils] Applying crop and scale\n",
      "[PoseUtils] Applying root centering\n",
      "[PoseUtils] Applying root centering\n",
      "[PoseUtils] Normalizing\n",
      "[PoseUtils] Normalizing\n",
      "[PoseUtils] Applying root centering\n",
      "[PoseUtils] Applying root centering\n",
      "[PoseUtils] Normalizing\n",
      "[PoseUtils] Normalizing\n"
     ]
    }
   ],
   "source": [
    "dataset = GPADataset(\"/home/smanzur/Personal/Research/Dataset/CrossDataset/gpa_xyz.npz\")\n",
    "transformed = TransformedDataset(dataset)\n",
    "\n",
    "transformations2d = [\n",
    "    CropAndScale(),\n",
    "    RootCenter(0),\n",
    "    CalculateMetrics(),\n",
    "    Normalize()\n",
    "]\n",
    "\n",
    "transformations3d = [\n",
    "    RootCenter(),\n",
    "    CalculateMetrics(),\n",
    "    Normalize()\n",
    "]\n",
    "\n",
    "transformed.apply2d(transformations2d)\n",
    "transformed.apply3d(transformations3d)"
   ]
  },
  {
   "cell_type": "code",
   "execution_count": 3,
   "metadata": {},
   "outputs": [
    {
     "name": "stdout",
     "output_type": "stream",
     "text": [
      "(222514, 14, 3)\n",
      "(222514, 14, 2)\n"
     ]
    }
   ],
   "source": [
    "d3d = transformed.get_3d_train()\n",
    "d2d = transformed.get_2d_train()\n",
    "\n",
    "print(d3d.shape)\n",
    "print(d2d.shape)"
   ]
  },
  {
   "cell_type": "code",
   "execution_count": 4,
   "metadata": {},
   "outputs": [
    {
     "name": "stdout",
     "output_type": "stream",
     "text": [
      "[[ 0.          0.          0.        ]\n",
      " [ 0.3651597   0.09011925  1.6028727 ]\n",
      " [ 0.15495363 -0.43241867  0.7495912 ]\n",
      " [-0.09085589 -0.3908625   0.7047713 ]\n",
      " [ 0.3570584   0.23320395  1.5539945 ]\n",
      " [ 0.31348956 -0.22329211  1.3850045 ]\n",
      " [ 0.10924482 -0.5536343   0.49914852]\n",
      " [-1.9019742  -1.097999    1.1082367 ]\n",
      " [ 0.3451071  -0.4129406   0.5929516 ]\n",
      " [ 1.3621072  -1.3455336  -0.749143  ]\n",
      " [ 1.6128842  -1.0139508  -1.2702225 ]\n",
      " [ 0.92807204 -0.5848624   0.19152361]\n",
      " [ 1.6047988  -1.1358491  -1.2341694 ]\n",
      " [ 1.6104474  -0.9084795  -1.2930346 ]]\n"
     ]
    }
   ],
   "source": [
    "print(d3d[0, :, :])"
   ]
  },
  {
   "cell_type": "code",
   "execution_count": null,
   "metadata": {},
   "outputs": [],
   "source": []
  }
 ],
 "metadata": {
  "kernelspec": {
   "display_name": "Python 2",
   "language": "python",
   "name": "python2"
  },
  "language_info": {
   "codemirror_mode": {
    "name": "ipython",
    "version": 2
   },
   "file_extension": ".py",
   "mimetype": "text/x-python",
   "name": "python",
   "nbconvert_exporter": "python",
   "pygments_lexer": "ipython2",
   "version": "2.7.15"
  }
 },
 "nbformat": 4,
 "nbformat_minor": 2
}
